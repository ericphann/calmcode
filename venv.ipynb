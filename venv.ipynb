{
 "cells": [
  {
   "cell_type": "markdown",
   "id": "788d259b-f916-49a1-92b2-032e856b99a4",
   "metadata": {},
   "source": [
    "Calmcode 1: venv  \n",
    "Eric Phann  \n",
    "DSBA 6188"
   ]
  },
  {
   "cell_type": "markdown",
   "id": "ab4adb4e-05b5-4719-ac6e-462a1db95b4b",
   "metadata": {},
   "source": [
    "1. __Intro__"
   ]
  },
  {
   "cell_type": "markdown",
   "id": "4b5378c7-3f27-4b01-b847-509c66fa7ef8",
   "metadata": {},
   "source": [
    "In Python, virtual environments are a way to create \"boxes\" around projects, keeping packages and dependencies across projects separate."
   ]
  },
  {
   "cell_type": "markdown",
   "id": "40ffc3d2-57cf-406c-970c-e133625d324d",
   "metadata": {},
   "source": [
    "2. __Multiple Pythons__"
   ]
  },
  {
   "cell_type": "markdown",
   "id": "0bd81ae7-353c-4fad-9ee3-675ba8475353",
   "metadata": {},
   "source": [
    "Below are commands for running python in terminal. The former returns the default system-wide Python while the latter may return a different python."
   ]
  },
  {
   "cell_type": "raw",
   "id": "d3a084e3-1043-42b4-b64b-0ea583ad5f00",
   "metadata": {},
   "source": [
    "python\n",
    "python3"
   ]
  },
  {
   "cell_type": "markdown",
   "id": "93553e57-a02b-4fb6-8a3f-444ce6dc8cf1",
   "metadata": {},
   "source": [
    "To check where each python is located:"
   ]
  },
  {
   "cell_type": "raw",
   "id": "7f9e4216-64e1-4ee1-963a-c23cd5055482",
   "metadata": {},
   "source": [
    "which python\n",
    "which python3"
   ]
  },
  {
   "cell_type": "markdown",
   "id": "b2e7ea9f-3263-448b-a05e-415a1042de6d",
   "metadata": {},
   "source": [
    "3. __Installation__"
   ]
  },
  {
   "cell_type": "markdown",
   "id": "32e05bca-4ba9-4ea6-a1d4-d014676ffcba",
   "metadata": {},
   "source": [
    "Installing virtualenv for different versions of python:"
   ]
  },
  {
   "cell_type": "raw",
   "id": "83c2d406-526c-48c8-9d0a-305293e6e92c",
   "metadata": {},
   "source": [
    "python3.6 -m pip install virtualenv"
   ]
  },
  {
   "cell_type": "markdown",
   "id": "c4b1e427-b803-46ba-971c-650826023199",
   "metadata": {},
   "source": [
    "explicitly use python3.6 / run module / pip / run install / virtualenv package"
   ]
  },
  {
   "cell_type": "markdown",
   "id": "c846bc05-da4f-41f2-950e-50e190c7a07e",
   "metadata": {},
   "source": [
    "To create virtual environment (folder):"
   ]
  },
  {
   "cell_type": "raw",
   "id": "db6c3ac2-435b-4f74-866a-e9d9c91c8247",
   "metadata": {},
   "source": [
    "python3.6 -m virtualenv venvName"
   ]
  },
  {
   "cell_type": "markdown",
   "id": "6b54efc1-fd43-4174-81c0-becebdde2a56",
   "metadata": {},
   "source": [
    "4. __Virtualenv__"
   ]
  },
  {
   "cell_type": "markdown",
   "id": "bf6e204f-7044-4856-8a44-bfa7dc6055a0",
   "metadata": {},
   "source": [
    "To list files in current directory:"
   ]
  },
  {
   "cell_type": "raw",
   "id": "c3c57ffb-2766-4407-bc62-e7f26125bb39",
   "metadata": {},
   "source": [
    "ls"
   ]
  },
  {
   "cell_type": "markdown",
   "id": "d08c3198-f9c3-4a8d-8035-fb29bda25ee4",
   "metadata": {},
   "source": [
    "To activate the virtualenv:"
   ]
  },
  {
   "cell_type": "raw",
   "id": "ef6052f1-f0b1-4ee2-ae05-9ddfc5c1c161",
   "metadata": {},
   "source": [
    "source venvName/bin/activate"
   ]
  },
  {
   "cell_type": "markdown",
   "id": "3e6fc923-0480-4d6c-a285-1b9f0bcb66be",
   "metadata": {},
   "source": [
    "The python version specific to the virtual environment will be in the bin folder. (You can check this with 'which python' and 'python' which will return the virtualenv python)"
   ]
  },
  {
   "cell_type": "markdown",
   "id": "7fb9667d-644b-4b1d-8fd0-4b1f1d0e3800",
   "metadata": {},
   "source": [
    "5. __Drawing Board__"
   ]
  },
  {
   "cell_type": "markdown",
   "id": "c89487b3-9252-4026-a627-54de7b9f5acc",
   "metadata": {},
   "source": [
    "Virtual environments create sort of a hierarchy for python versions. It is a way to override the system python with your preferred version."
   ]
  },
  {
   "cell_type": "markdown",
   "id": "4a2b486f-4a3d-4f2a-87c2-2282f00a7953",
   "metadata": {},
   "source": [
    "6. __Source__"
   ]
  },
  {
   "cell_type": "markdown",
   "id": "03b953ba-153f-4599-b359-e711fd8c0b2b",
   "metadata": {},
   "source": [
    "Source simply runs a file, in this case 'activate', which runs bash scripts to change PATHs, etc.  \n",
    "Again you can always check the python being used and location with 'which python'"
   ]
  },
  {
   "cell_type": "markdown",
   "id": "6f030666-fef8-45b4-b2ed-1a73b59fe3dc",
   "metadata": {},
   "source": [
    "To deactivate the virtual environment:"
   ]
  },
  {
   "cell_type": "raw",
   "id": "913a66d2-ba92-4249-bb32-b9f7ec587400",
   "metadata": {},
   "source": [
    "deactivate"
   ]
  },
  {
   "cell_type": "markdown",
   "id": "815007cb-d8cb-414c-881b-499d49d130aa",
   "metadata": {},
   "source": [
    "7. __Pip__"
   ]
  },
  {
   "cell_type": "markdown",
   "id": "7eb3d613-6af3-49fd-b0a1-cf9f9378091e",
   "metadata": {},
   "source": [
    "Can use pip normally within an activated virtual environment. e.g."
   ]
  },
  {
   "cell_type": "raw",
   "id": "4f709423-4734-496f-a19a-7cd1f9d9a3ef",
   "metadata": {},
   "source": [
    "python -m pip install packageName"
   ]
  },
  {
   "cell_type": "markdown",
   "id": "4e2d44b6-5759-44db-8f8f-6b4a31994d98",
   "metadata": {},
   "source": [
    "To install a specific package version:"
   ]
  },
  {
   "cell_type": "raw",
   "id": "d52b02db-2068-427e-90a7-0a20e925fe67",
   "metadata": {},
   "source": [
    "python -m pip install packageName==X.XX.X"
   ]
  },
  {
   "cell_type": "markdown",
   "id": "19ffdb75-9fa8-43db-9376-342a14387da7",
   "metadata": {},
   "source": [
    "To check packages installed and their versions:"
   ]
  },
  {
   "cell_type": "raw",
   "id": "2c100ad1-3bf7-46a8-833f-fd398fd45cf8",
   "metadata": {},
   "source": [
    "python -m pip freeze"
   ]
  },
  {
   "cell_type": "markdown",
   "id": "54a4550c-f0bc-4fe3-b651-d4f853fba03b",
   "metadata": {},
   "source": [
    "To check for a specific package and version using pipe and grep (global reg ex print):"
   ]
  },
  {
   "cell_type": "raw",
   "id": "c4332492-538a-49c5-b363-3e39241f9181",
   "metadata": {},
   "source": [
    "python -m pip freeze | grep packageName"
   ]
  },
  {
   "cell_type": "markdown",
   "id": "79b02236-7582-41f5-b6a7-fce110f1ac1d",
   "metadata": {},
   "source": [
    "An alternative way to check (using cat/view content) via requirements file:"
   ]
  },
  {
   "cell_type": "raw",
   "id": "1e46ab61-648a-490b-9aae-dd49e4d2ddf3",
   "metadata": {},
   "source": [
    "cat requirements.txt"
   ]
  },
  {
   "cell_type": "markdown",
   "id": "b2bc80e1-b8de-4a87-bbf0-e77306e502d8",
   "metadata": {},
   "source": [
    "Can also install packages using the requirements file:"
   ]
  },
  {
   "cell_type": "raw",
   "id": "0ae2dd98-a52e-445f-8433-2915dd7cbe3d",
   "metadata": {},
   "source": [
    "python -m pip install -r requirements.txt"
   ]
  },
  {
   "cell_type": "markdown",
   "id": "8d45530d-959e-4381-a90d-b4a9cd95c84a",
   "metadata": {},
   "source": [
    "8. __Bad Things__"
   ]
  },
  {
   "cell_type": "markdown",
   "id": "67b01cee-1605-49ef-b95c-756119cab7cb",
   "metadata": {},
   "source": [
    "It is possible to be inheriting or using the wrong package e.g. pip or jupyter in your virtualenv. Make sure they are in your virtualenv or you might be running a global version of it. Make sure the system packages are light (not many packages) and install what you need on the virtual environment for consistency. Also be explicit in the python you are using with each package."
   ]
  },
  {
   "cell_type": "markdown",
   "id": "195b64c4-06a6-4313-aa1c-33646e9b8f43",
   "metadata": {},
   "source": [
    "9. __Good Things__"
   ]
  },
  {
   "cell_type": "markdown",
   "id": "fc0a1b0e-412c-4e83-9e68-b8559c6a1fa9",
   "metadata": {},
   "source": [
    "Be explicit! This is safer in practice to ensure you are running the right versions of packages."
   ]
  },
  {
   "cell_type": "markdown",
   "id": "a56b7a36-eeac-440f-b072-c2bb11aa22e7",
   "metadata": {},
   "source": [
    "The following may show the wrong jupyter package (e.g., a system wide jupyter):"
   ]
  },
  {
   "cell_type": "raw",
   "id": "830336c5-f881-4fab-9da3-21c86e68b3ce",
   "metadata": {},
   "source": [
    "which jupyter"
   ]
  },
  {
   "cell_type": "markdown",
   "id": "13a17708-2e58-4a4a-9bec-bb92f51f7313",
   "metadata": {},
   "source": [
    "It is more safer to use this, which will also mention if there it is not in the venv:"
   ]
  },
  {
   "cell_type": "raw",
   "id": "93209861-26fe-4cc7-bdcf-1e4b003e8e57",
   "metadata": {},
   "source": [
    "python -m jupyter"
   ]
  },
  {
   "cell_type": "markdown",
   "id": "d8ae4ca7-5e79-40d1-a15d-ee16ec9e2534",
   "metadata": {},
   "source": [
    "If it is not, you can explicitly install it to the virtual environment:"
   ]
  },
  {
   "cell_type": "raw",
   "id": "a57d631e-c5b4-418b-8eac-448f90f78dda",
   "metadata": {},
   "source": [
    "python -m pip install jupyter"
   ]
  },
  {
   "cell_type": "markdown",
   "id": "bd60dd6b-7289-4287-977c-00e76129cf13",
   "metadata": {},
   "source": [
    "But it still may not show the one you want in 'which jupyter' even if it is in 'python -m jupyter'"
   ]
  },
  {
   "cell_type": "markdown",
   "id": "5688fc74-4ec0-4ddb-a344-82defb062539",
   "metadata": {},
   "source": [
    "So, you can just deactivate and activate the virtualenv again to update the path."
   ]
  },
  {
   "cell_type": "raw",
   "id": "45753791-44f5-433c-b824-d836fd6c1681",
   "metadata": {},
   "source": [
    "deactivate\n",
    "source venvName/bin/activate"
   ]
  },
  {
   "cell_type": "markdown",
   "id": "af54413e-f22a-4dda-9bc0-cea87b271b25",
   "metadata": {},
   "source": [
    "Just be careful and explicit with packages, because even 'pip freeze' may suggest something else."
   ]
  },
  {
   "cell_type": "raw",
   "id": "49304b59-678a-4917-b2fe-6cb03e1a12b2",
   "metadata": {},
   "source": [
    "jupyter lab\n",
    "python -m jupyter lab"
   ]
  },
  {
   "cell_type": "markdown",
   "id": "37213d95-4e76-45a2-95bb-39ae803308c3",
   "metadata": {},
   "source": [
    "10. __Concluding__"
   ]
  },
  {
   "cell_type": "markdown",
   "id": "cdbe7cf7-bb18-40ae-bc88-34aa03ecaded",
   "metadata": {},
   "source": [
    "Virtual environments help keep packages and dependencies between projects independent, isolated, and separate.  \n",
    "Get in the habit of doing a new virtual environment for each project.  \n",
    "Try not to install too much onto the global level.  \n",
    "See Makefiles and .gitignore for more."
   ]
  },
  {
   "cell_type": "markdown",
   "id": "b32a83b3-7b0e-457b-b9d1-91e3bc528269",
   "metadata": {},
   "source": [
    "11. __Note__"
   ]
  },
  {
   "cell_type": "markdown",
   "id": "4d8e1086-4a90-47e4-a121-15c157d7c972",
   "metadata": {},
   "source": [
    "You shouldn't push virtual environments to GitHub. Instead, generate a requirements.txt with all your packages and dependencies so that users may replicate your virtual environment on their own end."
   ]
  },
  {
   "cell_type": "raw",
   "id": "a1ab22dc-9ed5-4cff-aa8a-4f4220186aaf",
   "metadata": {},
   "source": [
    "pip freeze > requirements.txt"
   ]
  }
 ],
 "metadata": {
  "kernelspec": {
   "display_name": "Python 3 (ipykernel)",
   "language": "python",
   "name": "python3"
  },
  "language_info": {
   "codemirror_mode": {
    "name": "ipython",
    "version": 3
   },
   "file_extension": ".py",
   "mimetype": "text/x-python",
   "name": "python",
   "nbconvert_exporter": "python",
   "pygments_lexer": "ipython3",
   "version": "3.12.1"
  }
 },
 "nbformat": 4,
 "nbformat_minor": 5
}
