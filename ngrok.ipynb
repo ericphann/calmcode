{
 "cells": [
  {
   "cell_type": "markdown",
   "id": "f74ff902-6492-4623-ad77-62667994a835",
   "metadata": {},
   "source": [
    "Calmcode 1: ngrok  \n",
    "Eric Phann  \n",
    "DSBA 6188"
   ]
  },
  {
   "cell_type": "markdown",
   "id": "0d6cb88e-490f-4695-bcf8-d629160466b5",
   "metadata": {},
   "source": [
    "1. __The Problem__"
   ]
  },
  {
   "cell_type": "markdown",
   "id": "2f6d0a72-e708-4cd3-b7e8-269ec0c737ef",
   "metadata": {},
   "source": [
    "Ngrok creates a tunnel to your laptop. It allows you to share the local hosted app via a temporary public link on the internet. They will be able to interact with the app and view it instead of being physically next to you. This is useful for demos, etc."
   ]
  },
  {
   "cell_type": "markdown",
   "id": "63196ac1-3c62-40ba-9c37-40aa4fc2aad2",
   "metadata": {},
   "source": [
    "2. __Quick Solution__"
   ]
  },
  {
   "cell_type": "markdown",
   "id": "0a58f4bd-66c9-4a4b-9b1e-4128428ca74a",
   "metadata": {},
   "source": [
    "First find the local port your app (8080 for prodigy) is on, then use the following to get the link:"
   ]
  },
  {
   "cell_type": "raw",
   "id": "7c9010d4-e406-4ecc-a05d-a63490407719",
   "metadata": {},
   "source": [
    "ngrok http 8080\n",
    "https://2580-99-76-159-56.ngrok-free.app/"
   ]
  },
  {
   "cell_type": "markdown",
   "id": "bc33734d-d311-47de-88c9-d8816de8dee1",
   "metadata": {},
   "source": [
    "Then, you can use ctrl+c to kill it."
   ]
  },
  {
   "cell_type": "markdown",
   "id": "1420ce7b-db57-4f61-9c94-16b272cdb8c2",
   "metadata": {},
   "source": [
    "3. __Installation__"
   ]
  },
  {
   "cell_type": "markdown",
   "id": "8f8e03a3-0fc5-4c36-a320-35bbb17e8f42",
   "metadata": {},
   "source": [
    "Install via ngrok.com. Good idea to move it to a globally reachable folder: folder that holds binaries of command line apps or include it in PATH."
   ]
  },
  {
   "cell_type": "markdown",
   "id": "b1e58f3b-e9de-4f99-9071-8f1f5a0c2fe4",
   "metadata": {},
   "source": [
    "This is what I used for my Linux subsystem:"
   ]
  },
  {
   "cell_type": "raw",
   "id": "88adac96-8d67-429a-b301-2864f72b5755",
   "metadata": {},
   "source": [
    "sudo snap install ngrok"
   ]
  },
  {
   "cell_type": "markdown",
   "id": "58c1a709-0387-4f3c-9075-2f916dc3b6d6",
   "metadata": {},
   "source": [
    "Then, add your authentication token:"
   ]
  },
  {
   "cell_type": "raw",
   "id": "1f3d6882-7819-405a-99d0-8056c69a51db",
   "metadata": {},
   "source": [
    "ngrok authtoken <token>"
   ]
  },
  {
   "cell_type": "markdown",
   "id": "5d3c8015-73e0-46cf-ac86-279a230ed825",
   "metadata": {},
   "source": [
    "Then, you can run ngrok:"
   ]
  },
  {
   "cell_type": "raw",
   "id": "2b7428be-37f7-436c-928a-fbda0c354e05",
   "metadata": {},
   "source": [
    "ngrok http <8080>\n",
    "/path/to.ngrok http <8080>"
   ]
  },
  {
   "cell_type": "markdown",
   "id": "74fe2f29-fcf1-4581-afa7-386de7a17e75",
   "metadata": {},
   "source": [
    "4. __Dashboard__"
   ]
  },
  {
   "cell_type": "markdown",
   "id": "84ebab3e-cd3a-4933-b0ed-2b1e573f829e",
   "metadata": {},
   "source": [
    "You are able to inspect all requests to the app and other metrics via the dashboard after initializing the tunnel:"
   ]
  },
  {
   "cell_type": "raw",
   "id": "77f8d7c8-ae1c-4fef-b7de-9b6efbf7418e",
   "metadata": {},
   "source": [
    "http://localhost:4040"
   ]
  },
  {
   "cell_type": "markdown",
   "id": "e190df30-7b17-48ad-b7d5-aa8f5ca7539b",
   "metadata": {},
   "source": [
    "5. __Configuration__"
   ]
  },
  {
   "cell_type": "markdown",
   "id": "7d004352-dd47-4535-a730-44707a552516",
   "metadata": {},
   "source": [
    "You can create a local config file for ngrok with authtoken, tunnels, addresses, protocols, and passwords.  \n",
    "You can use it by pointing to is directly:"
   ]
  },
  {
   "cell_type": "raw",
   "id": "27d6e473-d9cb-4b01-856c-4e91f3e8fb3d",
   "metadata": {},
   "source": [
    "ngrok start <tunnelName> --config path/to/config.yml"
   ]
  },
  {
   "cell_type": "markdown",
   "id": "521160bc-81ba-4285-bfbd-4a40b8c4c78e",
   "metadata": {},
   "source": [
    "Or, if you updated the global config file:"
   ]
  },
  {
   "cell_type": "raw",
   "id": "e91e2884-6760-436b-b20c-08d2e655f05f",
   "metadata": {},
   "source": [
    "ngrok start <tunnelName>"
   ]
  },
  {
   "cell_type": "markdown",
   "id": "00ec94be-297a-431f-90b0-941ac8795d49",
   "metadata": {},
   "source": [
    "PRODIGY_ALLOWED_SESSIONS=eric,jake,alice,kristen,sydney python -m prodigy\n",
    " textcat.manual hmwk2-eval data/homework2_evaluation.jsonl --label RELEVANT,NOT_RELEVANT --exclusiveAdd this to the end of the ngrok link to create a multi-user Prodigy session:"
   ]
  },
  {
   "cell_type": "raw",
   "id": "704427a0-fa8b-433c-89c4-843bbbfc2fa1",
   "metadata": {},
   "source": [
    "?session=xxx"
   ]
  },
  {
   "cell_type": "code",
   "execution_count": null,
   "id": "7b004206-ff41-4235-86af-44ce6b89747e",
   "metadata": {},
   "outputs": [],
   "source": [
    "PRODIGY_ALLOWED_SESSIONS=eric,jake,alice,kristen,sydney python -m prodigy textcat.manual hmwk2-eval data/homework2_evaluation.jsonl --label RELEVANT,NOT_RELEVANT --exclusive"
   ]
  }
 ],
 "metadata": {
  "kernelspec": {
   "display_name": "Python 3 (ipykernel)",
   "language": "python",
   "name": "python3"
  },
  "language_info": {
   "codemirror_mode": {
    "name": "ipython",
    "version": 3
   },
   "file_extension": ".py",
   "mimetype": "text/x-python",
   "name": "python",
   "nbconvert_exporter": "python",
   "pygments_lexer": "ipython3",
   "version": "3.12.1"
  }
 },
 "nbformat": 4,
 "nbformat_minor": 5
}
