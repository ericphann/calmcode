{
 "cells": [
  {
   "cell_type": "markdown",
   "id": "a7ce5a4b-8e2c-40eb-943c-d11bcd7a4c6b",
   "metadata": {},
   "source": [
    "Calmcode 2: comprehensions  \n",
    "Eric Phann  \n",
    "DSBA 6188  "
   ]
  },
  {
   "cell_type": "markdown",
   "id": "24435c3c-a23a-43ce-9e57-aad3770ca78a",
   "metadata": {},
   "source": [
    "1. __Introduction__"
   ]
  },
  {
   "cell_type": "markdown",
   "id": "2e716762-c00d-4c00-8591-eff54f03a8ed",
   "metadata": {},
   "source": [
    "Comprehensions in Python allow you to turn nested for loops into a single line of code. Below is an example."
   ]
  },
  {
   "cell_type": "code",
   "execution_count": 2,
   "id": "415ae322-9894-434c-8877-fa42944b4352",
   "metadata": {},
   "outputs": [
    {
     "data": {
      "text/plain": [
       "[2, 4, 6, 8, 10]"
      ]
     },
     "execution_count": 2,
     "metadata": {},
     "output_type": "execute_result"
    }
   ],
   "source": [
    "old_list = [1, 2, 3, 4, 5]\n",
    "new_list = []\n",
    "for i in old_list:\n",
    "    new_list.append(i * 2)\n",
    "new_list"
   ]
  },
  {
   "cell_type": "code",
   "execution_count": 5,
   "id": "3f9b6d04-f744-4305-8912-1c7092aa3250",
   "metadata": {},
   "outputs": [
    {
     "data": {
      "text/plain": [
       "[2, 4, 6, 8, 10]"
      ]
     },
     "execution_count": 5,
     "metadata": {},
     "output_type": "execute_result"
    }
   ],
   "source": [
    "[i * 2 for i in old_list] # same output, with list comprehension"
   ]
  },
  {
   "cell_type": "markdown",
   "id": "a4925487-3188-437b-9950-b38aa9a5b0a4",
   "metadata": {},
   "source": [
    "2. __If__"
   ]
  },
  {
   "cell_type": "markdown",
   "id": "c9dc6db5-768f-4b63-8b88-63f37e0ed939",
   "metadata": {},
   "source": [
    "Comprehensions allows you to use if-statements in two different ways."
   ]
  },
  {
   "cell_type": "code",
   "execution_count": 8,
   "id": "38d2b0fe-159e-4338-a355-388d97a62104",
   "metadata": {},
   "outputs": [
    {
     "data": {
      "text/plain": [
       "[0, 2, 4, 6, 8, 10, 12, 14]"
      ]
     },
     "execution_count": 8,
     "metadata": {},
     "output_type": "execute_result"
    }
   ],
   "source": [
    "[i for i in range(16) if i % 2 == 0] # if statement as a filter (every other i)"
   ]
  },
  {
   "cell_type": "code",
   "execution_count": 9,
   "id": "7ca7e01b-7162-4601-8fa4-821e5468d48f",
   "metadata": {},
   "outputs": [
    {
     "data": {
      "text/plain": [
       "[0, 2, 2, 6, 4, 10, 6, 14, 8, 18, 10, 22, 12, 26, 14, 30]"
      ]
     },
     "execution_count": 9,
     "metadata": {},
     "output_type": "execute_result"
    }
   ],
   "source": [
    "[i if i % 2 == 0 else i * 2 for i in range(16)] # if statement used to calculate values (16 values, manipulated by the if statement)"
   ]
  },
  {
   "cell_type": "code",
   "execution_count": 11,
   "id": "dd53a763-059a-4a63-8d3d-a88390e54c9f",
   "metadata": {},
   "outputs": [
    {
     "data": {
      "text/plain": [
       "[0, 6, 6, 18, 12, 30]"
      ]
     },
     "execution_count": 11,
     "metadata": {},
     "output_type": "execute_result"
    }
   ],
   "source": [
    "[i if i % 2 == 0 else i * 2 for i in range(16) if i % 3 == 0] # can also combine the two if statements"
   ]
  },
  {
   "cell_type": "markdown",
   "id": "40449242-c112-492d-9469-2a40717c0e0e",
   "metadata": {},
   "source": [
    "3. __Enumerate__"
   ]
  },
  {
   "cell_type": "markdown",
   "id": "ca152d6b-0f23-4496-9444-7f59f32cca7c",
   "metadata": {},
   "source": [
    "Enumerate() loops over items given and returns them as a tuple (index, item). Useful for comprehensions."
   ]
  },
  {
   "cell_type": "code",
   "execution_count": 12,
   "id": "9d67de0a-675d-44b1-a98f-86dc8996b3bd",
   "metadata": {},
   "outputs": [
    {
     "data": {
      "text/plain": [
       "['a', 'c', 'e']"
      ]
     },
     "execution_count": 12,
     "metadata": {},
     "output_type": "execute_result"
    }
   ],
   "source": [
    "# verbose chunk of code\n",
    "old_list = 'abcde'\n",
    "new_list = []\n",
    "for i in range(len(old_list)):\n",
    "    if i % 2 == 0:\n",
    "        new_list.append(old_list[i])\n",
    "new_list"
   ]
  },
  {
   "cell_type": "code",
   "execution_count": 13,
   "id": "a4392f6f-7319-469c-b791-934c6ddf0180",
   "metadata": {},
   "outputs": [
    {
     "data": {
      "text/plain": [
       "['a', 'c', 'e']"
      ]
     },
     "execution_count": 13,
     "metadata": {},
     "output_type": "execute_result"
    }
   ],
   "source": [
    "# more pythonic, one-line of code using list comprehension and enumerate()\n",
    "[char for idx, char in enumerate('abcde') if idx % 2 == 0]"
   ]
  },
  {
   "cell_type": "markdown",
   "id": "6a67244e-71e7-497c-997e-af719df0fb7e",
   "metadata": {},
   "source": [
    "4. __Example__"
   ]
  },
  {
   "cell_type": "code",
   "execution_count": 14,
   "id": "abb2db74-e7e5-483f-a90e-1c94716d442d",
   "metadata": {},
   "outputs": [
    {
     "data": {
      "text/plain": [
       "['A', 'c', 'E']"
      ]
     },
     "execution_count": 14,
     "metadata": {},
     "output_type": "execute_result"
    }
   ],
   "source": [
    "# verbose chunk of code\n",
    "old_list = 'abcde'\n",
    "new_list = []\n",
    "for i, c in enumerate(old_list):\n",
    "    if i % 2 == 0:\n",
    "        if c in 'aeuio':\n",
    "            char = c.upper()\n",
    "        else:\n",
    "            char = c\n",
    "        new_list.append(char)\n",
    "new_list"
   ]
  },
  {
   "cell_type": "code",
   "execution_count": 17,
   "id": "b5d6dbcd-77e7-4ab4-bf16-8bc98ba109ed",
   "metadata": {},
   "outputs": [
    {
     "data": {
      "text/plain": [
       "['A', 'c', 'E']"
      ]
     },
     "execution_count": 17,
     "metadata": {},
     "output_type": "execute_result"
    }
   ],
   "source": [
    "# using list comprehension\n",
    "[c.upper() if c in 'aeuio' else c\n",
    " for i, c in enumerate(old_list)\n",
    " if i % 2 == 0]"
   ]
  },
  {
   "cell_type": "markdown",
   "id": "dae40e58-8161-4f6f-8377-78c13bfb32b0",
   "metadata": {},
   "source": [
    "5. __Nested__"
   ]
  },
  {
   "cell_type": "markdown",
   "id": "e7089bbb-9322-4c48-aec1-4e5a27659790",
   "metadata": {},
   "source": [
    "You can use comprehensions for nested for loops as well, just as above. But, at some point it may just be better for clarity to use regular loops."
   ]
  },
  {
   "cell_type": "code",
   "execution_count": 18,
   "id": "f51dba84-ae94-4792-b5be-ff2972331a0f",
   "metadata": {},
   "outputs": [
    {
     "name": "stdout",
     "output_type": "stream",
     "text": [
      "(3, 0)\n",
      "(3, 1)\n",
      "(4, 0)\n",
      "(4, 1)\n"
     ]
    }
   ],
   "source": [
    "# verbose chunk of code\n",
    "for i in range(5):\n",
    "    if i > 2:\n",
    "        for j in range(i):\n",
    "            if j < 2:\n",
    "                print((i, j))"
   ]
  },
  {
   "cell_type": "code",
   "execution_count": 19,
   "id": "5f2dd1fd-e7d9-41df-8439-0ddb3bf75242",
   "metadata": {
    "scrolled": true
   },
   "outputs": [
    {
     "data": {
      "text/plain": [
       "[(3, 0), (3, 1), (4, 0), (4, 1)]"
      ]
     },
     "execution_count": 19,
     "metadata": {},
     "output_type": "execute_result"
    }
   ],
   "source": [
    "# list comprehension\n",
    "[(i, j) for i in range(5) if i > 2 for j in range(i) if j < 2]"
   ]
  },
  {
   "cell_type": "markdown",
   "id": "ca4a745e-30bb-405e-b915-d807a55b5ee3",
   "metadata": {},
   "source": [
    "6. __Dict__"
   ]
  },
  {
   "cell_type": "markdown",
   "id": "70c106ca-365e-467b-904a-aa42d6fb9537",
   "metadata": {},
   "source": [
    "Comprehensions can also be used for sets, tuples, and even dictionaries."
   ]
  },
  {
   "cell_type": "code",
   "execution_count": 20,
   "id": "aa494427-7b9b-4573-b788-6ed7f138cbe1",
   "metadata": {},
   "outputs": [
    {
     "data": {
      "text/plain": [
       "['a', 'b', 'c', 'e', 'a']"
      ]
     },
     "execution_count": 20,
     "metadata": {},
     "output_type": "execute_result"
    }
   ],
   "source": [
    "[c for i, c in enumerate('abceabce') if i < 5] # list comprehension"
   ]
  },
  {
   "cell_type": "code",
   "execution_count": 22,
   "id": "262f989e-1a29-4443-9963-edb547451c7f",
   "metadata": {},
   "outputs": [
    {
     "data": {
      "text/plain": [
       "{'a', 'b', 'c', 'e'}"
      ]
     },
     "execution_count": 22,
     "metadata": {},
     "output_type": "execute_result"
    }
   ],
   "source": [
    "{c for i, c in enumerate('abceabce')} # set comprehension (unique values)"
   ]
  },
  {
   "cell_type": "code",
   "execution_count": 25,
   "id": "1693152c-e9d4-4f20-a19f-9960e456d5b5",
   "metadata": {},
   "outputs": [
    {
     "data": {
      "text/plain": [
       "('a', 'b', 'c', 'e', 'a', 'b', 'c', 'e')"
      ]
     },
     "execution_count": 25,
     "metadata": {},
     "output_type": "execute_result"
    }
   ],
   "source": [
    "tuple(c for i, c in enumerate('abceabce')) # tuple comprehension"
   ]
  },
  {
   "cell_type": "code",
   "execution_count": 24,
   "id": "8f7e2427-4fad-47fc-9789-781abf407bdd",
   "metadata": {},
   "outputs": [
    {
     "data": {
      "text/plain": [
       "{0: 'a', 1: 'b', 2: 'c', 3: 'e', 4: 'a'}"
      ]
     },
     "execution_count": 24,
     "metadata": {},
     "output_type": "execute_result"
    }
   ],
   "source": [
    "{i: c for i, c in enumerate('abceabce') if i < 5} # dict comprehension"
   ]
  },
  {
   "cell_type": "markdown",
   "id": "340a6d55-18c4-4250-91e0-a7911a6f9373",
   "metadata": {},
   "source": [
    "7. __Unique__"
   ]
  },
  {
   "cell_type": "markdown",
   "id": "23b8a6c1-a1fc-4896-a8b3-098f2622e5cd",
   "metadata": {},
   "source": [
    "Keys in a dictionary must be unique."
   ]
  },
  {
   "cell_type": "code",
   "execution_count": 29,
   "id": "e2b1ef6b-0b15-4a59-b2a7-ba0fc5ddb6ba",
   "metadata": {},
   "outputs": [
    {
     "data": {
      "text/plain": [
       "{0: 'a', 1: 'b', 2: 'c', 3: 'd', 4: 'e', 5: 'f', 6: 'a'}"
      ]
     },
     "execution_count": 29,
     "metadata": {},
     "output_type": "execute_result"
    }
   ],
   "source": [
    "{i: c for i, c in enumerate('abcdefa')} # using index as key, 7 key-value pairs, a maps to both 0 and 6"
   ]
  },
  {
   "cell_type": "code",
   "execution_count": 30,
   "id": "5f306116-980e-43cc-886f-26177783b20a",
   "metadata": {},
   "outputs": [
    {
     "data": {
      "text/plain": [
       "{'a': 6, 'b': 1, 'c': 2, 'd': 3, 'e': 4, 'f': 5}"
      ]
     },
     "execution_count": 30,
     "metadata": {},
     "output_type": "execute_result"
    }
   ],
   "source": [
    "{c: i for i, c in enumerate('abcdefa')} # using chars as key, 6 key-value pairs, a:0 is updated a:6"
   ]
  },
  {
   "cell_type": "markdown",
   "id": "eacf02bf-abe1-4f8b-9a75-40abc061a42e",
   "metadata": {},
   "source": [
    "8. __Unpack__"
   ]
  },
  {
   "cell_type": "markdown",
   "id": "72170b7c-6ffe-408b-956b-15931d899633",
   "metadata": {},
   "source": [
    "Understanding how flexible python unpacking can be lets you create new variants of comprehensions."
   ]
  },
  {
   "cell_type": "code",
   "execution_count": 35,
   "id": "4c9c362c-7672-44a7-8040-22ce5cccd5c6",
   "metadata": {},
   "outputs": [],
   "source": [
    "arr = [('a', 1), ('b', 2), ('c', 2)]"
   ]
  },
  {
   "cell_type": "code",
   "execution_count": 34,
   "id": "ee908591-cb51-4a24-b102-25773a878737",
   "metadata": {},
   "outputs": [
    {
     "name": "stdout",
     "output_type": "stream",
     "text": [
      "(0, ('a', 1))\n",
      "(1, ('b', 2))\n",
      "(2, ('c', 2))\n"
     ]
    }
   ],
   "source": [
    "for thing in enumerate(arr):\n",
    "    print(thing)"
   ]
  },
  {
   "cell_type": "code",
   "execution_count": 37,
   "id": "ae05b0e9-772f-4080-b0fa-c45d924fdd17",
   "metadata": {},
   "outputs": [
    {
     "name": "stdout",
     "output_type": "stream",
     "text": [
      "0 ('a', 1)\n",
      "1 ('b', 2)\n",
      "2 ('c', 2)\n"
     ]
    }
   ],
   "source": [
    "for idx, thing in enumerate(arr):\n",
    "    print(idx, thing)"
   ]
  },
  {
   "cell_type": "code",
   "execution_count": 39,
   "id": "178a08ea-08ff-4613-aa5a-ab40a528a5d8",
   "metadata": {},
   "outputs": [
    {
     "name": "stdout",
     "output_type": "stream",
     "text": [
      "0 a 1\n",
      "1 b 2\n",
      "2 c 2\n"
     ]
    }
   ],
   "source": [
    "for idx, (char, i) in enumerate(arr):\n",
    "    print(idx, char, i)"
   ]
  },
  {
   "cell_type": "code",
   "execution_count": 40,
   "id": "897becb3-fcab-42a6-90a1-79fcbdeb4422",
   "metadata": {},
   "outputs": [
    {
     "data": {
      "text/plain": [
       "[('a', 1), ('b', 2), ('c', 2)]"
      ]
     },
     "execution_count": 40,
     "metadata": {},
     "output_type": "execute_result"
    }
   ],
   "source": [
    "[(key, value) for idx, (key, value) in enumerate(arr)]"
   ]
  },
  {
   "cell_type": "code",
   "execution_count": 45,
   "id": "29057f4a-116a-47e8-bacb-5c87c982cf29",
   "metadata": {},
   "outputs": [
    {
     "data": {
      "text/plain": [
       "[{'a': 1}, {'b': 2}, {'c': 2}]"
      ]
     },
     "execution_count": 45,
     "metadata": {},
     "output_type": "execute_result"
    }
   ],
   "source": [
    "[{key: value} for idx, (key, value) in enumerate(arr)]"
   ]
  },
  {
   "cell_type": "code",
   "execution_count": 43,
   "id": "d82ebc99-17ca-452f-81f1-e05dfe9553cd",
   "metadata": {
    "scrolled": true
   },
   "outputs": [
    {
     "data": {
      "text/plain": [
       "[{'a': 1, 'i': 0}, {'b': 2, 'i': 1}, {'c': 2, 'i': 2}]"
      ]
     },
     "execution_count": 43,
     "metadata": {},
     "output_type": "execute_result"
    }
   ],
   "source": [
    "[{key: value, 'i': idx} for idx, (key, value) in enumerate(arr)]"
   ]
  },
  {
   "cell_type": "markdown",
   "id": "ef8cabcf-e0fd-4267-88f9-2d326308b6ec",
   "metadata": {},
   "source": [
    "9. __Zip__"
   ]
  },
  {
   "cell_type": "markdown",
   "id": "fde7bdbc-6a05-4e46-b372-2125a5c85457",
   "metadata": {},
   "source": [
    "Zip() allows you to \"repackage\" data in python. Dictionaries have .items() which let you access both keys and values."
   ]
  },
  {
   "cell_type": "code",
   "execution_count": 50,
   "id": "fd0522bd-6350-45e2-9de6-561982cb88f5",
   "metadata": {
    "scrolled": true
   },
   "outputs": [
    {
     "data": {
      "text/plain": [
       "[('a', 1), ('b', 2), ('c', 3)]"
      ]
     },
     "execution_count": 50,
     "metadata": {},
     "output_type": "execute_result"
    }
   ],
   "source": [
    "d = {'a': 1, 'b': 2, 'c': 3} \n",
    "[(k, v) for k, v in d.items()] # dict to list with tuples"
   ]
  },
  {
   "cell_type": "code",
   "execution_count": 52,
   "id": "576b6741-7e15-44e7-9d2c-0d563eae2a8e",
   "metadata": {},
   "outputs": [
    {
     "data": {
      "text/plain": [
       "{'a': 2, 'b': 4}"
      ]
     },
     "execution_count": 52,
     "metadata": {},
     "output_type": "execute_result"
    }
   ],
   "source": [
    "d = {'a':1, 'b':2}\n",
    "{k: v * 2 for k, v in d.items()} # use items to double all values in dict"
   ]
  },
  {
   "cell_type": "code",
   "execution_count": 53,
   "id": "93d635f1-2c07-41d8-a848-07a1fa738859",
   "metadata": {},
   "outputs": [
    {
     "data": {
      "text/plain": [
       "[(1, 4), (2, 5), (3, 6)]"
      ]
     },
     "execution_count": 53,
     "metadata": {},
     "output_type": "execute_result"
    }
   ],
   "source": [
    "[(a, b) for a, b in zip([1, 2, 3], [4, 5, 6])]  # \"zip\" lists together"
   ]
  },
  {
   "cell_type": "code",
   "execution_count": 54,
   "id": "3785265c-b7d6-4be2-b3fc-b2727223b3a2",
   "metadata": {},
   "outputs": [
    {
     "data": {
      "text/plain": [
       "[(1, 4, 7), (2, 5, 8), (3, 6, 9)]"
      ]
     },
     "execution_count": 54,
     "metadata": {},
     "output_type": "execute_result"
    }
   ],
   "source": [
    "[(a, b, c) for a, b, c in zip([1, 2, 3], [4, 5, 6], [7, 8, 9])] # can do with 3 arrays"
   ]
  }
 ],
 "metadata": {
  "kernelspec": {
   "display_name": "Python 3 (ipykernel)",
   "language": "python",
   "name": "python3"
  },
  "language_info": {
   "codemirror_mode": {
    "name": "ipython",
    "version": 3
   },
   "file_extension": ".py",
   "mimetype": "text/x-python",
   "name": "python",
   "nbconvert_exporter": "python",
   "pygments_lexer": "ipython3",
   "version": "3.12.1"
  }
 },
 "nbformat": 4,
 "nbformat_minor": 5
}
